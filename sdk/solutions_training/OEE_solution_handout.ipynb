{
 "cells": [
  {
   "cell_type": "markdown",
   "id": "c4ece8b6",
   "metadata": {},
   "source": [
    "# TrendMiner Solutions Training — OEE Reporting (Hands-On Notebook)\n",
    "**Date:** 2025-09-30 (Europe) / 2025-10-08 (Americas)  \n",
    "**Audience:** Experienced TrendMiner users   \n",
    "**Goal:** Build an end-to-end OEE KPI reporting workflow using TrendMiner.\n",
    "\n",
    "---\n",
    "\n",
    "\n"
   ]
  },
  {
   "cell_type": "markdown",
   "id": "a80a8c2e5f33c033",
   "metadata": {},
   "source": [
    "## About OEE\n",
    "**Overall Equipment Effectiveness (OEE)** is the gold standard for measuring manufacturing productivity.\n",
    "Simply put, it identifies the percentage of manufacturing time that is truly productive.\n",
    "\n",
    "An OEE score of 100% means you are manufacturing only good parts, as fast as possible, with no stop time.\n",
    "In OEE terms, that corresponds to:\n",
    "- 100% Quality (only good parts)\n",
    "- 100% Performance (as fast as possible)\n",
    "- 100% Availability (no stop time)\n",
    "\n",
    "**Why TrendMiner for OEE?**\n",
    "TrendMiner provides a highly flexible approach to setting up OEE tracking systems, tightly connecting OEE metrics with production data for intuitive, two-way operations. Engineers can efficiently identify and categorize losses by analyzing trend data and leveraging analytics to calculate integral values promptly. Once collected, OEE data becomes a powerful resource for building reporting flows and performing retrospective analyses to highlight major losses and improvement opportunities."
   ]
  },
  {
   "cell_type": "markdown",
   "id": "89aa3ff6e8e214a0",
   "metadata": {},
   "source": [
    "## Solution training overview\n",
    "\n",
    "This session is designed for experienced TrendMiner users who want to learn how to **build custom solution packages** on top of TrendMiner. Rather than being a theoretical exercise, this workshop mirrors the approach used by TrendMiner Data Analytics Engineers when implementing real-world solutions for customers. Although the outcome is a working OEE reporting solution, the real value is learning a **general solutions approach** that you can reuse for many other applications such as energy reporting, batch validation, and quality monitoring.\n",
    "\n",
    "By the end of this training, you will have learned how to:\n",
    "\n",
    "- Capture production events (batches for batch processes, operating periods for continuous processes) with monitors in TrendHub and display them as context items in a ContextHub view\n",
    "- Load those context items via Python and write loss data to their context fields using the TrendMiner SDK\n",
    "- Capture regular periods (weeks/months) and compute OEE KPIs (availability, productivity, quality, overall OEE) over those periods, using the data of production events captured earlier\n",
    "- Creating actionable user dashboards based on this OEE data\n",
    "\n",
    "\n",
    "### Prerequisites\n",
    "- Access to your TrendMiner environment (URL, client credentials, and user credentials)\n",
    "- Python with the TrendMiner SDK installed (wheel or pip package provided by TrendMiner)\n",
    "- TrendMiner admin rights to create Context Types & Context Fields in ContextHub settings\n",
    "- A process (batch or continuous) with tags you can read"
   ]
  },
  {
   "cell_type": "markdown",
   "id": "45f715fe58452d04",
   "metadata": {},
   "source": [
    "## TrendMiner Python SDK setup\n",
    "### Installation\n",
    "Different versions of the TrendMiner SDK version are available on GitHub: <https://github.com/TrendMinerCS/sdk>\n",
    "\n",
    "Uncomment one of the pip install commands bellow according to your TrendMiner version.\n",
    "\n",
    "> **note:** if you have received a training account from the TrendMiner team you can use 2025.R2"
   ]
  },
  {
   "cell_type": "code",
   "execution_count": null,
   "id": "e879c6ba4a91479b",
   "metadata": {
    "ExecuteTime": {
     "end_time": "2025-09-29T13:35:27.045388Z",
     "start_time": "2025-09-29T13:35:25.281299Z"
    }
   },
   "outputs": [],
   "source": [
    "# Uncomment (remove the # before the line) the command according to your TrendMiner version:\n",
    "\n",
    "# 2025R2\n",
    "#!pip install https://github.com/TrendMinerCS/sdk/raw/main/sdk/2025R2/trendminer_interface-0.0.0-py3-none-any.whl\n",
    "\n",
    "#2025R1\n",
    "#!pip install https://github.com/TrendMinerCS/sdk/raw/main/sdk/2025R1/trendminer_interface-0.1.0.post161+86ad9f74.dirty-py3-none-any.whl\n",
    "\n",
    "#2024R3.1\n",
    "#!pip install https://github.com/TrendMinerCS/sdk/raw/main/sdk/2024R3.1/trendminer_interface-0.1.0.post160+1848287a.dirty-py3-none-any.whl\n",
    "\n",
    "#2024R2.1\n",
    "#!pip install https://github.com/TrendMinerCS/sdk/raw/main/sdk/2024R2.1/trendminer_interface-0.1.0.post162+bc00a459.dirty-py3-none-any.whl\n"
   ]
  },
  {
   "cell_type": "markdown",
   "id": "aa6b807d8e9f8f05",
   "metadata": {},
   "source": [
    "### Install keyring\n",
    "We will use keyring to securely store and retrive both our client secret and password."
   ]
  },
  {
   "cell_type": "code",
   "execution_count": null,
   "id": "b4df85ab878284b3",
   "metadata": {
    "ExecuteTime": {
     "end_time": "2025-09-29T13:27:14.598571Z",
     "start_time": "2025-09-29T13:27:13.733129Z"
    }
   },
   "outputs": [],
   "source": "!pip install keyring"
  },
  {
   "cell_type": "markdown",
   "id": "876d4e170ba51bd5",
   "metadata": {},
   "source": [
    "### Connect to TrendMiner\n",
    "As a preparation we asked you to create a client and a local user (only applicable to SSO users). If you do not have any of these please ask for a training account."
   ]
  },
  {
   "cell_type": "markdown",
   "id": "14df06fb0eeaa73",
   "metadata": {},
   "source": [
    "#### Set TrendMiner credentials\n",
    "\n",
    "Fill in your TrendMiner url, username and client id so we can later on use them to log into TrendMiner.\n",
    "\n",
    "> **Note:** make sure that everything is between quotation marks \"\""
   ]
  },
  {
   "cell_type": "code",
   "id": "3526119602156d6",
   "metadata": {
    "ExecuteTime": {
     "end_time": "2025-09-30T08:14:39.788980Z",
     "start_time": "2025-09-30T08:14:39.787369Z"
    }
   },
   "source": [
    "url = \"YOUR TRENDMINER URL\"\n",
    "client_id = \"YOUR TRENDMINER CLIENT ID\"\n",
    "username = \"YOUR TRENDMINER USERNAME\""
   ],
   "outputs": [],
   "execution_count": 1
  },
  {
   "cell_type": "markdown",
   "id": "1706dcb231ca2f75",
   "metadata": {},
   "source": [
    "Now we will securely store your password and client secret using the keyring package.\n",
    "The keyring package ensures that these credentials are stored safely by associating them with a unique combination of the TrendMiner URL and either your client ID or username.\n",
    "\n",
    "**Instructions**:\n",
    "1. Replace the placeholder values in the code below with your actual client secret and password.\n",
    "2. Execute the cell to save your credentials securely in the keyring.\n",
    "3. Once the cell has been executed successfully, remove the plain text values for both the client secret and password from the code to prevent them from being stored in clear text."
   ]
  },
  {
   "cell_type": "code",
   "execution_count": null,
   "id": "43ebf062bf0b364a",
   "metadata": {
    "ExecuteTime": {
     "end_time": "2025-09-29T13:36:47.989064Z",
     "start_time": "2025-09-29T13:36:47.947182Z"
    }
   },
   "outputs": [],
   "source": [
    "import keyring\n",
    "\n",
    "# Fill in the string bellow your client secret\n",
    "# keyring.set_password(url, client_id, \"YOUR CLIENT SECRET\")\n",
    "\n",
    "# Fill in the string bellow your password\n",
    "# keyring.set_password(url, username, \"YOUR PASSWORD\")"
   ]
  },
  {
   "cell_type": "markdown",
   "id": "71186c3bf3219240",
   "metadata": {},
   "source": [
    "#### Set timezone\n",
    "You can specify your timezone to display all retrieved data in this format."
   ]
  },
  {
   "cell_type": "code",
   "id": "8bead03f49a61556",
   "metadata": {
    "ExecuteTime": {
     "end_time": "2025-09-30T08:14:44.179372Z",
     "start_time": "2025-09-30T08:14:44.176582Z"
    }
   },
   "source": [
    "timezone = \"Europe/Brussels\""
   ],
   "outputs": [],
   "execution_count": 2
  },
  {
   "cell_type": "markdown",
   "id": "540bdd2c1d585888",
   "metadata": {},
   "source": [
    "#### Log into TrendMiner\n",
    "In this step, we will use the credentials that were securely stored in the keyring to authenticate and establish a connection with TrendMiner.\n",
    "\n",
    "1.\tThe cell retrieves the client secret and password from the keyring using the combination of the TrendMiner URL, client ID, and username.\n",
    "2.\tThese credentials are then passed to the TrendMinerClient, along with the required connection parameters such as the URL and timezone.\n",
    "3.\tOnce the connection is established, the client object can be used to interact with TrendMiner programmatically.\n",
    "4.\tThe final line prints the client version to confirm that the connection has been created successfully."
   ]
  },
  {
   "cell_type": "code",
   "execution_count": 3,
   "id": "4e2d2e1f4e5d7378",
   "metadata": {
    "ExecuteTime": {
     "end_time": "2025-09-29T13:39:54.175227Z",
     "start_time": "2025-09-29T13:39:53.516767Z"
    }
   },
   "outputs": [
    {
     "name": "stdout",
     "output_type": "stream",
     "text": [
      "2025.R2.0-08\n"
     ]
    }
   ],
   "source": [
    "from trendminer_interface import TrendMinerClient\n",
    "import keyring\n",
    "\n",
    "client = TrendMinerClient(\n",
    "    url=url,\n",
    "    client_id=client_id,\n",
    "    client_secret=keyring.get_password(url, client_id),\n",
    "    username=username,\n",
    "    password=keyring.get_password(url, username),\n",
    "    tz=timezone,\n",
    "    verify=False,\n",
    ")\n",
    "\n",
    "print(client.version)"
   ]
  },
  {
   "cell_type": "markdown",
   "id": "af4f50b7adf25efe",
   "metadata": {},
   "source": [
    "The print statement outputs the TrendMiner version and confirms that the client has been successfully created."
   ]
  },
  {
   "cell_type": "markdown",
   "id": "e4c77658d4e6e308",
   "metadata": {},
   "source": [
    "## Capturing production events\n",
    "In this training, we will set up a monthly overview of OEE values. These monthly values will be aggregated from individual production events. Therefore, in a first stage, we will identify, capture and annotate individual production events as context items.\n",
    "\n",
    "You should have already prepared an appropriate **Context Item Type** named `Production` with the following fields:\n",
    "- `Performance Loss`\n",
    "- `Quality Loss`\n",
    "\n",
    "We can now create a **value-based search** in TrendMiner which captures such events. The basis for this search will simply be a condition that shows that our process is active.\n",
    "\n",
    "If we are performing OEE on a **continuous** process, we already want to split our production events by the final reporting periods (months). We can do this by including the condition that our month tag (e.g. `TM_month_Europe_Brussels`) remains `constant` to our search.\n",
    "\n",
    "For a **batch** process, we want to keep the individual batches events intact even if they fall within two different months. After all, there would otherwise not be a way to check whether those batches are taking too much time. We therefore only include the conditions that our batch process is active. We can deal with the problem of batches falling within two different months during the KPI calculation.\n",
    "\n",
    "We will take a batch example, which is simply defined by the condition:\n",
    "```\n",
    "OEE-R1-active = 1\n",
    "```\n",
    "\n",
    "We now perform our search, and create (empty) `Production` **context items** from the search results. This takes care of the historic events. For a live solution, we need to make sure to also capture future events, which do by setting up a **monitor** which creates the same context items.\n",
    "\n",
    "Finally, we want to capture these context items in dedicated **ContextHub views**. In these views, we should at least filter on:\n",
    "- Timespan: the last x time, going back to include all historic context items\n",
    "- context type: `Production`\n",
    "- component: the tag, asset or attribute to which we have added our context items\n",
    "- user: we do not want to capture someone else's events when working on the same server\n",
    "- current state: we only want to capture `closed` context items\n",
    "\n",
    "We can now save this ContextHub view in TrendMiner."
   ]
  },
  {
   "cell_type": "markdown",
   "id": "b2c701d71ae4ca9e",
   "metadata": {},
   "source": [
    "## Annotating production events\n",
    "First step to annotating the new context items is pulling them into our coding environment. We can do this by simply getting the identifier from the ContextHub view url."
   ]
  },
  {
   "cell_type": "code",
   "execution_count": 9,
   "id": "dfd9fc464b9591c7",
   "metadata": {
    "ExecuteTime": {
     "end_time": "2025-09-29T14:44:23.752097Z",
     "start_time": "2025-09-29T14:44:22.915349Z"
    }
   },
   "outputs": [
    {
     "data": {
      "text/html": [
       "<div>\n",
       "<style scoped>\n",
       "    .dataframe tbody tr th:only-of-type {\n",
       "        vertical-align: middle;\n",
       "    }\n",
       "\n",
       "    .dataframe tbody tr th {\n",
       "        vertical-align: top;\n",
       "    }\n",
       "\n",
       "    .dataframe thead th {\n",
       "        text-align: right;\n",
       "    }\n",
       "</style>\n",
       "<table border=\"1\" class=\"dataframe\">\n",
       "  <thead>\n",
       "    <tr style=\"text-align: right;\">\n",
       "      <th></th>\n",
       "      <th>key</th>\n",
       "      <th>identifier</th>\n",
       "      <th>identifier_external</th>\n",
       "      <th>description</th>\n",
       "      <th>type</th>\n",
       "      <th>component</th>\n",
       "      <th>created_by</th>\n",
       "      <th>created</th>\n",
       "      <th>last_modified</th>\n",
       "      <th>performance_loss</th>\n",
       "      <th>quality_loss</th>\n",
       "    </tr>\n",
       "    <tr>\n",
       "      <th>Production OEE annotated</th>\n",
       "      <th></th>\n",
       "      <th></th>\n",
       "      <th></th>\n",
       "      <th></th>\n",
       "      <th></th>\n",
       "      <th></th>\n",
       "      <th></th>\n",
       "      <th></th>\n",
       "      <th></th>\n",
       "      <th></th>\n",
       "      <th></th>\n",
       "    </tr>\n",
       "  </thead>\n",
       "  <tbody>\n",
       "    <tr>\n",
       "      <th>[2025-01-01 01:00:00+01:00, 2025-01-01 06:39:00+01:00]</th>\n",
       "      <td>45C-6D</td>\n",
       "      <td>5cfc939a-7b5c-44ec-8c52-bc6544ed821f</td>\n",
       "      <td>None</td>\n",
       "      <td></td>\n",
       "      <td>production</td>\n",
       "      <td>OEE-R1-active</td>\n",
       "      <td>fvandael</td>\n",
       "      <td>2025-09-29 13:49:51.760085+02:00</td>\n",
       "      <td>2025-09-29 19:30:33.583506+02:00</td>\n",
       "      <td>NaN</td>\n",
       "      <td>NaN</td>\n",
       "    </tr>\n",
       "    <tr>\n",
       "      <th>[2025-01-01 08:19:00+01:00, 2025-01-01 14:38:00+01:00]</th>\n",
       "      <td>45C-6C</td>\n",
       "      <td>ee0815ac-471f-4476-874c-f059446f8f2c</td>\n",
       "      <td>None</td>\n",
       "      <td></td>\n",
       "      <td>production</td>\n",
       "      <td>OEE-R1-active</td>\n",
       "      <td>fvandael</td>\n",
       "      <td>2025-09-29 13:49:51.760060+02:00</td>\n",
       "      <td>2025-09-29 19:30:33.625934+02:00</td>\n",
       "      <td>NaN</td>\n",
       "      <td>NaN</td>\n",
       "    </tr>\n",
       "    <tr>\n",
       "      <th>[2025-01-01 17:26:00+01:00, 2025-01-01 22:49:00+01:00]</th>\n",
       "      <td>45C-6B</td>\n",
       "      <td>be978e72-214b-45ef-b971-53092fa430cc</td>\n",
       "      <td>None</td>\n",
       "      <td></td>\n",
       "      <td>production</td>\n",
       "      <td>OEE-R1-active</td>\n",
       "      <td>fvandael</td>\n",
       "      <td>2025-09-29 13:49:51.760033+02:00</td>\n",
       "      <td>2025-09-29 19:30:33.667154+02:00</td>\n",
       "      <td>NaN</td>\n",
       "      <td>NaN</td>\n",
       "    </tr>\n",
       "  </tbody>\n",
       "</table>\n",
       "</div>"
      ],
      "text/plain": [
       "                                                       key  \\\n",
       "Production OEE annotated                                     \n",
       "[2025-01-01 01:00:00+01:00, 2025-01-01 06:39:00...  45C-6D   \n",
       "[2025-01-01 08:19:00+01:00, 2025-01-01 14:38:00...  45C-6C   \n",
       "[2025-01-01 17:26:00+01:00, 2025-01-01 22:49:00...  45C-6B   \n",
       "\n",
       "                                                                              identifier  \\\n",
       "Production OEE annotated                                                                   \n",
       "[2025-01-01 01:00:00+01:00, 2025-01-01 06:39:00...  5cfc939a-7b5c-44ec-8c52-bc6544ed821f   \n",
       "[2025-01-01 08:19:00+01:00, 2025-01-01 14:38:00...  ee0815ac-471f-4476-874c-f059446f8f2c   \n",
       "[2025-01-01 17:26:00+01:00, 2025-01-01 22:49:00...  be978e72-214b-45ef-b971-53092fa430cc   \n",
       "\n",
       "                                                   identifier_external  \\\n",
       "Production OEE annotated                                                 \n",
       "[2025-01-01 01:00:00+01:00, 2025-01-01 06:39:00...                None   \n",
       "[2025-01-01 08:19:00+01:00, 2025-01-01 14:38:00...                None   \n",
       "[2025-01-01 17:26:00+01:00, 2025-01-01 22:49:00...                None   \n",
       "\n",
       "                                                   description        type  \\\n",
       "Production OEE annotated                                                     \n",
       "[2025-01-01 01:00:00+01:00, 2025-01-01 06:39:00...              production   \n",
       "[2025-01-01 08:19:00+01:00, 2025-01-01 14:38:00...              production   \n",
       "[2025-01-01 17:26:00+01:00, 2025-01-01 22:49:00...              production   \n",
       "\n",
       "                                                        component created_by  \\\n",
       "Production OEE annotated                                                       \n",
       "[2025-01-01 01:00:00+01:00, 2025-01-01 06:39:00...  OEE-R1-active   fvandael   \n",
       "[2025-01-01 08:19:00+01:00, 2025-01-01 14:38:00...  OEE-R1-active   fvandael   \n",
       "[2025-01-01 17:26:00+01:00, 2025-01-01 22:49:00...  OEE-R1-active   fvandael   \n",
       "\n",
       "                                                                            created  \\\n",
       "Production OEE annotated                                                              \n",
       "[2025-01-01 01:00:00+01:00, 2025-01-01 06:39:00... 2025-09-29 13:49:51.760085+02:00   \n",
       "[2025-01-01 08:19:00+01:00, 2025-01-01 14:38:00... 2025-09-29 13:49:51.760060+02:00   \n",
       "[2025-01-01 17:26:00+01:00, 2025-01-01 22:49:00... 2025-09-29 13:49:51.760033+02:00   \n",
       "\n",
       "                                                                      last_modified  \\\n",
       "Production OEE annotated                                                              \n",
       "[2025-01-01 01:00:00+01:00, 2025-01-01 06:39:00... 2025-09-29 19:30:33.583506+02:00   \n",
       "[2025-01-01 08:19:00+01:00, 2025-01-01 14:38:00... 2025-09-29 19:30:33.625934+02:00   \n",
       "[2025-01-01 17:26:00+01:00, 2025-01-01 22:49:00... 2025-09-29 19:30:33.667154+02:00   \n",
       "\n",
       "                                                    performance_loss  \\\n",
       "Production OEE annotated                                               \n",
       "[2025-01-01 01:00:00+01:00, 2025-01-01 06:39:00...               NaN   \n",
       "[2025-01-01 08:19:00+01:00, 2025-01-01 14:38:00...               NaN   \n",
       "[2025-01-01 17:26:00+01:00, 2025-01-01 22:49:00...               NaN   \n",
       "\n",
       "                                                    quality_loss  \n",
       "Production OEE annotated                                          \n",
       "[2025-01-01 01:00:00+01:00, 2025-01-01 06:39:00...           NaN  \n",
       "[2025-01-01 08:19:00+01:00, 2025-01-01 14:38:00...           NaN  \n",
       "[2025-01-01 17:26:00+01:00, 2025-01-01 22:49:00...           NaN  "
      ]
     },
     "execution_count": 9,
     "metadata": {},
     "output_type": "execute_result"
    }
   ],
   "source": [
    "chv_production= client.context.view.from_identifier(\"0721cbe5-ee8b-4145-be93-558cc1f269a8\")\n",
    "df_production = chv_production.get_items()\n",
    "df_production.head(3)  # Display the first 3 items"
   ]
  },
  {
   "cell_type": "markdown",
   "id": "b9a55609-eb9c-4e98-a5f7-506098f89a90",
   "metadata": {},
   "source": [
    "We can now calculated performance and quality losses for our production events according to whatever logic we see fit. In our example, the performance loss is the duration by which a batch exceeds the target duration of 5h. The quality loss is dependent on the viscosity: whenever this value exceeds 140, the product is considered scrap, and we count the target duration of 5h as a quality loss. Note that this way, a batch can have both a quality and performance loss."
   ]
  },
  {
   "cell_type": "code",
   "execution_count": 10,
   "id": "9fe48f7ca1b99332",
   "metadata": {
    "ExecuteTime": {
     "end_time": "2025-09-29T14:44:26.769425Z",
     "start_time": "2025-09-29T14:44:26.680968Z"
    }
   },
   "outputs": [],
   "source": [
    "import pandas as pd\n",
    "\n",
    "# Calculate performance loss\n",
    "minimal_batch_duration = pd.Timedelta(hours=5)\n",
    "df_production[\"performance_loss\"] = (df_production.index.length - minimal_batch_duration).total_seconds()/60  # in minutes\n",
    "\n",
    "# Calculate quality loss\n",
    "viscosity_tag = client.tag.from_name(\"OEE-R1-viscosity\")\n",
    "df_production = df_production.interval.calculate(tag=viscosity_tag, operation=\"max\", name=\"viscosity\")\n",
    "viscosity_too_high = df_production.pop(\"viscosity\") > 140\n",
    "quality_loss = viscosity_too_high * minimal_batch_duration.total_seconds()/60  # in minutes\n",
    "df_production[\"quality_loss\"] = quality_loss"
   ]
  },
  {
   "cell_type": "markdown",
   "id": "86d92705-5f59-4edc-9026-9330953bd2ca",
   "metadata": {},
   "source": [
    "We can display a few batches to see if the values we filled in make sense:"
   ]
  },
  {
   "cell_type": "code",
   "execution_count": 11,
   "id": "87d900a4-b593-4088-a4c1-11d1f5afd3b9",
   "metadata": {},
   "outputs": [
    {
     "data": {
      "text/html": [
       "<div>\n",
       "<style scoped>\n",
       "    .dataframe tbody tr th:only-of-type {\n",
       "        vertical-align: middle;\n",
       "    }\n",
       "\n",
       "    .dataframe tbody tr th {\n",
       "        vertical-align: top;\n",
       "    }\n",
       "\n",
       "    .dataframe thead th {\n",
       "        text-align: right;\n",
       "    }\n",
       "</style>\n",
       "<table border=\"1\" class=\"dataframe\">\n",
       "  <thead>\n",
       "    <tr style=\"text-align: right;\">\n",
       "      <th></th>\n",
       "      <th>key</th>\n",
       "      <th>identifier</th>\n",
       "      <th>identifier_external</th>\n",
       "      <th>description</th>\n",
       "      <th>type</th>\n",
       "      <th>component</th>\n",
       "      <th>created_by</th>\n",
       "      <th>created</th>\n",
       "      <th>last_modified</th>\n",
       "      <th>performance_loss</th>\n",
       "      <th>quality_loss</th>\n",
       "    </tr>\n",
       "    <tr>\n",
       "      <th>Production OEE annotated</th>\n",
       "      <th></th>\n",
       "      <th></th>\n",
       "      <th></th>\n",
       "      <th></th>\n",
       "      <th></th>\n",
       "      <th></th>\n",
       "      <th></th>\n",
       "      <th></th>\n",
       "      <th></th>\n",
       "      <th></th>\n",
       "      <th></th>\n",
       "    </tr>\n",
       "  </thead>\n",
       "  <tbody>\n",
       "    <tr>\n",
       "      <th>[2025-01-01 01:00:00+01:00, 2025-01-01 06:39:00+01:00]</th>\n",
       "      <td>45C-6D</td>\n",
       "      <td>5cfc939a-7b5c-44ec-8c52-bc6544ed821f</td>\n",
       "      <td>None</td>\n",
       "      <td></td>\n",
       "      <td>production</td>\n",
       "      <td>OEE-R1-active</td>\n",
       "      <td>fvandael</td>\n",
       "      <td>2025-09-29 13:49:51.760085+02:00</td>\n",
       "      <td>2025-09-29 19:30:33.583506+02:00</td>\n",
       "      <td>39.0</td>\n",
       "      <td>0.0</td>\n",
       "    </tr>\n",
       "    <tr>\n",
       "      <th>[2025-01-01 08:19:00+01:00, 2025-01-01 14:38:00+01:00]</th>\n",
       "      <td>45C-6C</td>\n",
       "      <td>ee0815ac-471f-4476-874c-f059446f8f2c</td>\n",
       "      <td>None</td>\n",
       "      <td></td>\n",
       "      <td>production</td>\n",
       "      <td>OEE-R1-active</td>\n",
       "      <td>fvandael</td>\n",
       "      <td>2025-09-29 13:49:51.760060+02:00</td>\n",
       "      <td>2025-09-29 19:30:33.625934+02:00</td>\n",
       "      <td>79.0</td>\n",
       "      <td>0.0</td>\n",
       "    </tr>\n",
       "    <tr>\n",
       "      <th>[2025-01-01 17:26:00+01:00, 2025-01-01 22:49:00+01:00]</th>\n",
       "      <td>45C-6B</td>\n",
       "      <td>be978e72-214b-45ef-b971-53092fa430cc</td>\n",
       "      <td>None</td>\n",
       "      <td></td>\n",
       "      <td>production</td>\n",
       "      <td>OEE-R1-active</td>\n",
       "      <td>fvandael</td>\n",
       "      <td>2025-09-29 13:49:51.760033+02:00</td>\n",
       "      <td>2025-09-29 19:30:33.667154+02:00</td>\n",
       "      <td>23.0</td>\n",
       "      <td>0.0</td>\n",
       "    </tr>\n",
       "  </tbody>\n",
       "</table>\n",
       "</div>"
      ],
      "text/plain": [
       "                                                       key  \\\n",
       "Production OEE annotated                                     \n",
       "[2025-01-01 01:00:00+01:00, 2025-01-01 06:39:00...  45C-6D   \n",
       "[2025-01-01 08:19:00+01:00, 2025-01-01 14:38:00...  45C-6C   \n",
       "[2025-01-01 17:26:00+01:00, 2025-01-01 22:49:00...  45C-6B   \n",
       "\n",
       "                                                                              identifier  \\\n",
       "Production OEE annotated                                                                   \n",
       "[2025-01-01 01:00:00+01:00, 2025-01-01 06:39:00...  5cfc939a-7b5c-44ec-8c52-bc6544ed821f   \n",
       "[2025-01-01 08:19:00+01:00, 2025-01-01 14:38:00...  ee0815ac-471f-4476-874c-f059446f8f2c   \n",
       "[2025-01-01 17:26:00+01:00, 2025-01-01 22:49:00...  be978e72-214b-45ef-b971-53092fa430cc   \n",
       "\n",
       "                                                   identifier_external  \\\n",
       "Production OEE annotated                                                 \n",
       "[2025-01-01 01:00:00+01:00, 2025-01-01 06:39:00...                None   \n",
       "[2025-01-01 08:19:00+01:00, 2025-01-01 14:38:00...                None   \n",
       "[2025-01-01 17:26:00+01:00, 2025-01-01 22:49:00...                None   \n",
       "\n",
       "                                                   description        type  \\\n",
       "Production OEE annotated                                                     \n",
       "[2025-01-01 01:00:00+01:00, 2025-01-01 06:39:00...              production   \n",
       "[2025-01-01 08:19:00+01:00, 2025-01-01 14:38:00...              production   \n",
       "[2025-01-01 17:26:00+01:00, 2025-01-01 22:49:00...              production   \n",
       "\n",
       "                                                        component created_by  \\\n",
       "Production OEE annotated                                                       \n",
       "[2025-01-01 01:00:00+01:00, 2025-01-01 06:39:00...  OEE-R1-active   fvandael   \n",
       "[2025-01-01 08:19:00+01:00, 2025-01-01 14:38:00...  OEE-R1-active   fvandael   \n",
       "[2025-01-01 17:26:00+01:00, 2025-01-01 22:49:00...  OEE-R1-active   fvandael   \n",
       "\n",
       "                                                                            created  \\\n",
       "Production OEE annotated                                                              \n",
       "[2025-01-01 01:00:00+01:00, 2025-01-01 06:39:00... 2025-09-29 13:49:51.760085+02:00   \n",
       "[2025-01-01 08:19:00+01:00, 2025-01-01 14:38:00... 2025-09-29 13:49:51.760060+02:00   \n",
       "[2025-01-01 17:26:00+01:00, 2025-01-01 22:49:00... 2025-09-29 13:49:51.760033+02:00   \n",
       "\n",
       "                                                                      last_modified  \\\n",
       "Production OEE annotated                                                              \n",
       "[2025-01-01 01:00:00+01:00, 2025-01-01 06:39:00... 2025-09-29 19:30:33.583506+02:00   \n",
       "[2025-01-01 08:19:00+01:00, 2025-01-01 14:38:00... 2025-09-29 19:30:33.625934+02:00   \n",
       "[2025-01-01 17:26:00+01:00, 2025-01-01 22:49:00... 2025-09-29 19:30:33.667154+02:00   \n",
       "\n",
       "                                                    performance_loss  \\\n",
       "Production OEE annotated                                               \n",
       "[2025-01-01 01:00:00+01:00, 2025-01-01 06:39:00...              39.0   \n",
       "[2025-01-01 08:19:00+01:00, 2025-01-01 14:38:00...              79.0   \n",
       "[2025-01-01 17:26:00+01:00, 2025-01-01 22:49:00...              23.0   \n",
       "\n",
       "                                                    quality_loss  \n",
       "Production OEE annotated                                          \n",
       "[2025-01-01 01:00:00+01:00, 2025-01-01 06:39:00...           0.0  \n",
       "[2025-01-01 08:19:00+01:00, 2025-01-01 14:38:00...           0.0  \n",
       "[2025-01-01 17:26:00+01:00, 2025-01-01 22:49:00...           0.0  "
      ]
     },
     "execution_count": 11,
     "metadata": {},
     "output_type": "execute_result"
    }
   ],
   "source": [
    "df_production.head(3)"
   ]
  },
  {
   "cell_type": "markdown",
   "id": "111e239f-c170-48fa-aa65-a851cb087f32",
   "metadata": {},
   "source": [
    "Finally, we can update the production context items in TrendMiner. Note that every time we run this code, all context items will update. When we would set up an update service which runs regularly, it makes more sense to create a ContextHub view specifically to capture the context items with empty fields, and update only those."
   ]
  },
  {
   "cell_type": "code",
   "execution_count": 12,
   "id": "f672d738-c7c0-4439-b034-05771ee488b6",
   "metadata": {},
   "outputs": [],
   "source": [
    "df_production.context.update()"
   ]
  },
  {
   "cell_type": "markdown",
   "id": "ada2fa25c6061728",
   "metadata": {},
   "source": [
    "## Capturing monthly reporting periods\n",
    "We can now capture the reporting periods in exactly the same way as the production events: create context items from a value-based search and a monitor on that search. \n",
    "\n",
    "A **Context Item Type** `OEE` with the following fields should already exist:\n",
    "- `Availability`\n",
    "- `Performance`\n",
    "- `Quality`\n",
    "- `OEE`\n",
    "\n",
    "\n",
    "Capturing monthly periods with value-based search is easy:\n",
    "```\n",
    "TM_month_Europe_Brussels constant\n",
    "```\n",
    "\n",
    "Again, we should save a ContextHub view which captures (only) these context items, and record its identifier."
   ]
  },
  {
   "cell_type": "markdown",
   "id": "1bb72885b68107e2",
   "metadata": {},
   "source": [
    "## Annotating monthly reports\n",
    "We use our newly made ContextHub view to pull the monthly context items into TrendMiner:"
   ]
  },
  {
   "cell_type": "code",
   "execution_count": 63,
   "id": "3ff3f1aa0721e47",
   "metadata": {
    "ExecuteTime": {
     "end_time": "2025-09-29T14:54:43.474221Z",
     "start_time": "2025-09-29T14:54:43.290705Z"
    }
   },
   "outputs": [
    {
     "data": {
      "text/html": [
       "<div>\n",
       "<style scoped>\n",
       "    .dataframe tbody tr th:only-of-type {\n",
       "        vertical-align: middle;\n",
       "    }\n",
       "\n",
       "    .dataframe tbody tr th {\n",
       "        vertical-align: top;\n",
       "    }\n",
       "\n",
       "    .dataframe thead th {\n",
       "        text-align: right;\n",
       "    }\n",
       "</style>\n",
       "<table border=\"1\" class=\"dataframe\">\n",
       "  <thead>\n",
       "    <tr style=\"text-align: right;\">\n",
       "      <th></th>\n",
       "      <th>key</th>\n",
       "      <th>identifier</th>\n",
       "      <th>identifier_external</th>\n",
       "      <th>description</th>\n",
       "      <th>type</th>\n",
       "      <th>component</th>\n",
       "      <th>created_by</th>\n",
       "      <th>created</th>\n",
       "      <th>last_modified</th>\n",
       "      <th>availability</th>\n",
       "      <th>OEE</th>\n",
       "      <th>performance</th>\n",
       "      <th>quality</th>\n",
       "    </tr>\n",
       "    <tr>\n",
       "      <th>Month OEE annotated</th>\n",
       "      <th></th>\n",
       "      <th></th>\n",
       "      <th></th>\n",
       "      <th></th>\n",
       "      <th></th>\n",
       "      <th></th>\n",
       "      <th></th>\n",
       "      <th></th>\n",
       "      <th></th>\n",
       "      <th></th>\n",
       "      <th></th>\n",
       "      <th></th>\n",
       "      <th></th>\n",
       "    </tr>\n",
       "  </thead>\n",
       "  <tbody>\n",
       "    <tr>\n",
       "      <th>[2025-01-01 00:00:00+01:00, 2025-01-31 23:59:00+01:00]</th>\n",
       "      <td>45C-79</td>\n",
       "      <td>3ff187e6-a727-4585-9878-82d78ae01ad8</td>\n",
       "      <td>None</td>\n",
       "      <td></td>\n",
       "      <td>OEE_report</td>\n",
       "      <td>TM_month_Europe_Brussels</td>\n",
       "      <td>fvandael</td>\n",
       "      <td>2025-09-29 14:49:47.723310+02:00</td>\n",
       "      <td>2025-09-29 14:49:47.723310+02:00</td>\n",
       "      <td>NaN</td>\n",
       "      <td>NaN</td>\n",
       "      <td>NaN</td>\n",
       "      <td>NaN</td>\n",
       "    </tr>\n",
       "    <tr>\n",
       "      <th>[2025-02-01 00:00:00+01:00, 2025-02-28 23:59:00+01:00]</th>\n",
       "      <td>45C-78</td>\n",
       "      <td>26e121dd-4d5e-4c2b-b2ef-ce4121a09a8b</td>\n",
       "      <td>None</td>\n",
       "      <td></td>\n",
       "      <td>OEE_report</td>\n",
       "      <td>TM_month_Europe_Brussels</td>\n",
       "      <td>fvandael</td>\n",
       "      <td>2025-09-29 14:49:47.723283+02:00</td>\n",
       "      <td>2025-09-29 14:49:47.723283+02:00</td>\n",
       "      <td>NaN</td>\n",
       "      <td>NaN</td>\n",
       "      <td>NaN</td>\n",
       "      <td>NaN</td>\n",
       "    </tr>\n",
       "    <tr>\n",
       "      <th>[2025-03-01 00:00:00+01:00, 2025-03-31 23:59:00+02:00]</th>\n",
       "      <td>45C-77</td>\n",
       "      <td>d9f1d8fd-210f-479d-832e-e5dde07acc9a</td>\n",
       "      <td>None</td>\n",
       "      <td></td>\n",
       "      <td>OEE_report</td>\n",
       "      <td>TM_month_Europe_Brussels</td>\n",
       "      <td>fvandael</td>\n",
       "      <td>2025-09-29 14:49:47.723257+02:00</td>\n",
       "      <td>2025-09-29 14:49:47.723257+02:00</td>\n",
       "      <td>NaN</td>\n",
       "      <td>NaN</td>\n",
       "      <td>NaN</td>\n",
       "      <td>NaN</td>\n",
       "    </tr>\n",
       "  </tbody>\n",
       "</table>\n",
       "</div>"
      ],
      "text/plain": [
       "                                                       key  \\\n",
       "Month OEE annotated                                          \n",
       "[2025-01-01 00:00:00+01:00, 2025-01-31 23:59:00...  45C-79   \n",
       "[2025-02-01 00:00:00+01:00, 2025-02-28 23:59:00...  45C-78   \n",
       "[2025-03-01 00:00:00+01:00, 2025-03-31 23:59:00...  45C-77   \n",
       "\n",
       "                                                                              identifier  \\\n",
       "Month OEE annotated                                                                        \n",
       "[2025-01-01 00:00:00+01:00, 2025-01-31 23:59:00...  3ff187e6-a727-4585-9878-82d78ae01ad8   \n",
       "[2025-02-01 00:00:00+01:00, 2025-02-28 23:59:00...  26e121dd-4d5e-4c2b-b2ef-ce4121a09a8b   \n",
       "[2025-03-01 00:00:00+01:00, 2025-03-31 23:59:00...  d9f1d8fd-210f-479d-832e-e5dde07acc9a   \n",
       "\n",
       "                                                   identifier_external  \\\n",
       "Month OEE annotated                                                      \n",
       "[2025-01-01 00:00:00+01:00, 2025-01-31 23:59:00...                None   \n",
       "[2025-02-01 00:00:00+01:00, 2025-02-28 23:59:00...                None   \n",
       "[2025-03-01 00:00:00+01:00, 2025-03-31 23:59:00...                None   \n",
       "\n",
       "                                                   description        type  \\\n",
       "Month OEE annotated                                                          \n",
       "[2025-01-01 00:00:00+01:00, 2025-01-31 23:59:00...              OEE_report   \n",
       "[2025-02-01 00:00:00+01:00, 2025-02-28 23:59:00...              OEE_report   \n",
       "[2025-03-01 00:00:00+01:00, 2025-03-31 23:59:00...              OEE_report   \n",
       "\n",
       "                                                                   component  \\\n",
       "Month OEE annotated                                                            \n",
       "[2025-01-01 00:00:00+01:00, 2025-01-31 23:59:00...  TM_month_Europe_Brussels   \n",
       "[2025-02-01 00:00:00+01:00, 2025-02-28 23:59:00...  TM_month_Europe_Brussels   \n",
       "[2025-03-01 00:00:00+01:00, 2025-03-31 23:59:00...  TM_month_Europe_Brussels   \n",
       "\n",
       "                                                   created_by  \\\n",
       "Month OEE annotated                                             \n",
       "[2025-01-01 00:00:00+01:00, 2025-01-31 23:59:00...   fvandael   \n",
       "[2025-02-01 00:00:00+01:00, 2025-02-28 23:59:00...   fvandael   \n",
       "[2025-03-01 00:00:00+01:00, 2025-03-31 23:59:00...   fvandael   \n",
       "\n",
       "                                                                            created  \\\n",
       "Month OEE annotated                                                                   \n",
       "[2025-01-01 00:00:00+01:00, 2025-01-31 23:59:00... 2025-09-29 14:49:47.723310+02:00   \n",
       "[2025-02-01 00:00:00+01:00, 2025-02-28 23:59:00... 2025-09-29 14:49:47.723283+02:00   \n",
       "[2025-03-01 00:00:00+01:00, 2025-03-31 23:59:00... 2025-09-29 14:49:47.723257+02:00   \n",
       "\n",
       "                                                                      last_modified  \\\n",
       "Month OEE annotated                                                                   \n",
       "[2025-01-01 00:00:00+01:00, 2025-01-31 23:59:00... 2025-09-29 14:49:47.723310+02:00   \n",
       "[2025-02-01 00:00:00+01:00, 2025-02-28 23:59:00... 2025-09-29 14:49:47.723283+02:00   \n",
       "[2025-03-01 00:00:00+01:00, 2025-03-31 23:59:00... 2025-09-29 14:49:47.723257+02:00   \n",
       "\n",
       "                                                    availability  OEE  \\\n",
       "Month OEE annotated                                                     \n",
       "[2025-01-01 00:00:00+01:00, 2025-01-31 23:59:00...           NaN  NaN   \n",
       "[2025-02-01 00:00:00+01:00, 2025-02-28 23:59:00...           NaN  NaN   \n",
       "[2025-03-01 00:00:00+01:00, 2025-03-31 23:59:00...           NaN  NaN   \n",
       "\n",
       "                                                    performance  quality  \n",
       "Month OEE annotated                                                       \n",
       "[2025-01-01 00:00:00+01:00, 2025-01-31 23:59:00...          NaN      NaN  \n",
       "[2025-02-01 00:00:00+01:00, 2025-02-28 23:59:00...          NaN      NaN  \n",
       "[2025-03-01 00:00:00+01:00, 2025-03-31 23:59:00...          NaN      NaN  "
      ]
     },
     "execution_count": 63,
     "metadata": {},
     "output_type": "execute_result"
    }
   ],
   "source": [
    "chv_months = client.context.view.from_identifier(\"9126f17e-3883-4f08-8c2a-be5417a7f9ea\")\n",
    "df_months = chv_months.get_items()\n",
    "df_months.head(3)"
   ]
  },
  {
   "cell_type": "markdown",
   "id": "71b622d8-ee1e-4565-8a6a-488d9644b706",
   "metadata": {},
   "source": [
    "We loop over the months one by one to calculate the availability, performance and quality parameters for each. Note that if the production events were not already loaded, we would need to retrieve them again from their ContextHub view."
   ]
  },
  {
   "cell_type": "code",
   "execution_count": 64,
   "id": "404bc1fe-67fd-4dfe-aa56-678260c9e2fc",
   "metadata": {},
   "outputs": [],
   "source": [
    "for month in df_months.index:\n",
    "\n",
    "    # Find the production events which fall within this month\n",
    "    in_month = df_production.index.overlaps(month)\n",
    "    in_month_production = df_production[in_month]\n",
    "\n",
    "    # We need to account for the fact that production events can fall only partially within the month\n",
    "    def get_in_month_ratio(event):\n",
    "        event_cutoff_left = max(event.left, month.left)  # month or event start, whichever is last\n",
    "        event_cutoff_right = min(event.right, month.right) # month or event end, whichever is first\n",
    "        in_month_event_length = event_cutoff_right - event_cutoff_left \n",
    "        return in_month_event_length / event.length\n",
    "\n",
    "    in_month_ratios = in_month_production.index.map(get_in_month_ratio)\n",
    "\n",
    "    # The availability is the duration of production divided by the month duration\n",
    "    total_production_duration = (in_month_production.index.length * in_month_ratios).sum()\n",
    "    df_months.loc[month, \"availability\"] = total_production_duration / month.length\n",
    "\n",
    "    # The performance is the target duration time divided by the actual duration\n",
    "    total_performance_loss = pd.to_timedelta(\n",
    "        (in_month_production[\"performance_loss\"] * in_month_ratios).sum(), \n",
    "        unit=\"m\",  # In our example, production losses were recorded in minutes\n",
    "    )\n",
    "    target_total_duration = total_production_duration - total_performance_loss\n",
    "    df_months.loc[month, \"performance\"] = target_total_duration / total_production_duration\n",
    "\n",
    "    # The quality is the % of the efficient production time was spent making accepted product\n",
    "    total_quality_loss = pd.to_timedelta(\n",
    "        (in_month_production[\"quality_loss\"] * in_month_ratios).sum(),\n",
    "        unit=\"m\",  # In our example, production losses were recorded in minutes\n",
    "    )\n",
    "    df_months.loc[month, \"quality\"] = 1 - (total_quality_loss / target_total_duration)"
   ]
  },
  {
   "cell_type": "markdown",
   "id": "8a5cc569-e14c-43b6-9652-cef4d7875574",
   "metadata": {},
   "source": [
    "We can calculate the overall OEE (A × P × Q) for all months at once:"
   ]
  },
  {
   "cell_type": "code",
   "execution_count": 68,
   "id": "a733cb8d-a22b-490c-9c4c-c46396c75fac",
   "metadata": {},
   "outputs": [],
   "source": [
    "df_months[\"OEE\"] = df_months[\"availability\"] * df_months[\"performance\"] * df_months[\"quality\"]"
   ]
  },
  {
   "cell_type": "markdown",
   "id": "00fe0ceb-357f-426c-bb79-4addfa2b6e9c",
   "metadata": {},
   "source": [
    "To avoid too many digits in ContextHub, we can round the numeric values to 4 digits:"
   ]
  },
  {
   "cell_type": "code",
   "execution_count": 71,
   "id": "c315d644-d32c-4256-bfbc-36cd3e5d9ebf",
   "metadata": {},
   "outputs": [],
   "source": [
    "df_months = df_months.round(4)"
   ]
  },
  {
   "cell_type": "markdown",
   "id": "0052c2fb-5f03-4ca5-8f67-ebd0455ba6d5",
   "metadata": {},
   "source": [
    "It makes sense to display some context items to make sure they contain sensible values:"
   ]
  },
  {
   "cell_type": "code",
   "execution_count": 75,
   "id": "d60d89ac-7f1e-47e8-95ae-fa7a648299a2",
   "metadata": {},
   "outputs": [
    {
     "data": {
      "text/html": [
       "<div>\n",
       "<style scoped>\n",
       "    .dataframe tbody tr th:only-of-type {\n",
       "        vertical-align: middle;\n",
       "    }\n",
       "\n",
       "    .dataframe tbody tr th {\n",
       "        vertical-align: top;\n",
       "    }\n",
       "\n",
       "    .dataframe thead th {\n",
       "        text-align: right;\n",
       "    }\n",
       "</style>\n",
       "<table border=\"1\" class=\"dataframe\">\n",
       "  <thead>\n",
       "    <tr style=\"text-align: right;\">\n",
       "      <th></th>\n",
       "      <th>key</th>\n",
       "      <th>identifier</th>\n",
       "      <th>identifier_external</th>\n",
       "      <th>description</th>\n",
       "      <th>type</th>\n",
       "      <th>component</th>\n",
       "      <th>created_by</th>\n",
       "      <th>created</th>\n",
       "      <th>last_modified</th>\n",
       "      <th>availability</th>\n",
       "      <th>OEE</th>\n",
       "      <th>performance</th>\n",
       "      <th>quality</th>\n",
       "    </tr>\n",
       "    <tr>\n",
       "      <th>Month OEE annotated</th>\n",
       "      <th></th>\n",
       "      <th></th>\n",
       "      <th></th>\n",
       "      <th></th>\n",
       "      <th></th>\n",
       "      <th></th>\n",
       "      <th></th>\n",
       "      <th></th>\n",
       "      <th></th>\n",
       "      <th></th>\n",
       "      <th></th>\n",
       "      <th></th>\n",
       "      <th></th>\n",
       "    </tr>\n",
       "  </thead>\n",
       "  <tbody>\n",
       "    <tr>\n",
       "      <th>[2025-01-01 00:00:00+01:00, 2025-01-31 23:59:00+01:00]</th>\n",
       "      <td>45C-79</td>\n",
       "      <td>3ff187e6-a727-4585-9878-82d78ae01ad8</td>\n",
       "      <td>None</td>\n",
       "      <td></td>\n",
       "      <td>OEE_report</td>\n",
       "      <td>TM_month_Europe_Brussels</td>\n",
       "      <td>fvandael</td>\n",
       "      <td>2025-09-29 14:49:47.723310+02:00</td>\n",
       "      <td>2025-09-29 14:49:47.723310+02:00</td>\n",
       "      <td>0.7337</td>\n",
       "      <td>0.5240</td>\n",
       "      <td>0.8242</td>\n",
       "      <td>0.8666</td>\n",
       "    </tr>\n",
       "    <tr>\n",
       "      <th>[2025-02-01 00:00:00+01:00, 2025-02-28 23:59:00+01:00]</th>\n",
       "      <td>45C-78</td>\n",
       "      <td>26e121dd-4d5e-4c2b-b2ef-ce4121a09a8b</td>\n",
       "      <td>None</td>\n",
       "      <td></td>\n",
       "      <td>OEE_report</td>\n",
       "      <td>TM_month_Europe_Brussels</td>\n",
       "      <td>fvandael</td>\n",
       "      <td>2025-09-29 14:49:47.723283+02:00</td>\n",
       "      <td>2025-09-29 14:49:47.723283+02:00</td>\n",
       "      <td>0.7281</td>\n",
       "      <td>0.4913</td>\n",
       "      <td>0.8076</td>\n",
       "      <td>0.8355</td>\n",
       "    </tr>\n",
       "    <tr>\n",
       "      <th>[2025-03-01 00:00:00+01:00, 2025-03-31 23:59:00+02:00]</th>\n",
       "      <td>45C-77</td>\n",
       "      <td>d9f1d8fd-210f-479d-832e-e5dde07acc9a</td>\n",
       "      <td>None</td>\n",
       "      <td></td>\n",
       "      <td>OEE_report</td>\n",
       "      <td>TM_month_Europe_Brussels</td>\n",
       "      <td>fvandael</td>\n",
       "      <td>2025-09-29 14:49:47.723257+02:00</td>\n",
       "      <td>2025-09-29 14:49:47.723257+02:00</td>\n",
       "      <td>0.7347</td>\n",
       "      <td>0.5367</td>\n",
       "      <td>0.8129</td>\n",
       "      <td>0.8986</td>\n",
       "    </tr>\n",
       "  </tbody>\n",
       "</table>\n",
       "</div>"
      ],
      "text/plain": [
       "                                                       key  \\\n",
       "Month OEE annotated                                          \n",
       "[2025-01-01 00:00:00+01:00, 2025-01-31 23:59:00...  45C-79   \n",
       "[2025-02-01 00:00:00+01:00, 2025-02-28 23:59:00...  45C-78   \n",
       "[2025-03-01 00:00:00+01:00, 2025-03-31 23:59:00...  45C-77   \n",
       "\n",
       "                                                                              identifier  \\\n",
       "Month OEE annotated                                                                        \n",
       "[2025-01-01 00:00:00+01:00, 2025-01-31 23:59:00...  3ff187e6-a727-4585-9878-82d78ae01ad8   \n",
       "[2025-02-01 00:00:00+01:00, 2025-02-28 23:59:00...  26e121dd-4d5e-4c2b-b2ef-ce4121a09a8b   \n",
       "[2025-03-01 00:00:00+01:00, 2025-03-31 23:59:00...  d9f1d8fd-210f-479d-832e-e5dde07acc9a   \n",
       "\n",
       "                                                   identifier_external  \\\n",
       "Month OEE annotated                                                      \n",
       "[2025-01-01 00:00:00+01:00, 2025-01-31 23:59:00...                None   \n",
       "[2025-02-01 00:00:00+01:00, 2025-02-28 23:59:00...                None   \n",
       "[2025-03-01 00:00:00+01:00, 2025-03-31 23:59:00...                None   \n",
       "\n",
       "                                                   description        type  \\\n",
       "Month OEE annotated                                                          \n",
       "[2025-01-01 00:00:00+01:00, 2025-01-31 23:59:00...              OEE_report   \n",
       "[2025-02-01 00:00:00+01:00, 2025-02-28 23:59:00...              OEE_report   \n",
       "[2025-03-01 00:00:00+01:00, 2025-03-31 23:59:00...              OEE_report   \n",
       "\n",
       "                                                                   component  \\\n",
       "Month OEE annotated                                                            \n",
       "[2025-01-01 00:00:00+01:00, 2025-01-31 23:59:00...  TM_month_Europe_Brussels   \n",
       "[2025-02-01 00:00:00+01:00, 2025-02-28 23:59:00...  TM_month_Europe_Brussels   \n",
       "[2025-03-01 00:00:00+01:00, 2025-03-31 23:59:00...  TM_month_Europe_Brussels   \n",
       "\n",
       "                                                   created_by  \\\n",
       "Month OEE annotated                                             \n",
       "[2025-01-01 00:00:00+01:00, 2025-01-31 23:59:00...   fvandael   \n",
       "[2025-02-01 00:00:00+01:00, 2025-02-28 23:59:00...   fvandael   \n",
       "[2025-03-01 00:00:00+01:00, 2025-03-31 23:59:00...   fvandael   \n",
       "\n",
       "                                                                            created  \\\n",
       "Month OEE annotated                                                                   \n",
       "[2025-01-01 00:00:00+01:00, 2025-01-31 23:59:00... 2025-09-29 14:49:47.723310+02:00   \n",
       "[2025-02-01 00:00:00+01:00, 2025-02-28 23:59:00... 2025-09-29 14:49:47.723283+02:00   \n",
       "[2025-03-01 00:00:00+01:00, 2025-03-31 23:59:00... 2025-09-29 14:49:47.723257+02:00   \n",
       "\n",
       "                                                                      last_modified  \\\n",
       "Month OEE annotated                                                                   \n",
       "[2025-01-01 00:00:00+01:00, 2025-01-31 23:59:00... 2025-09-29 14:49:47.723310+02:00   \n",
       "[2025-02-01 00:00:00+01:00, 2025-02-28 23:59:00... 2025-09-29 14:49:47.723283+02:00   \n",
       "[2025-03-01 00:00:00+01:00, 2025-03-31 23:59:00... 2025-09-29 14:49:47.723257+02:00   \n",
       "\n",
       "                                                    availability     OEE  \\\n",
       "Month OEE annotated                                                        \n",
       "[2025-01-01 00:00:00+01:00, 2025-01-31 23:59:00...        0.7337  0.5240   \n",
       "[2025-02-01 00:00:00+01:00, 2025-02-28 23:59:00...        0.7281  0.4913   \n",
       "[2025-03-01 00:00:00+01:00, 2025-03-31 23:59:00...        0.7347  0.5367   \n",
       "\n",
       "                                                    performance  quality  \n",
       "Month OEE annotated                                                       \n",
       "[2025-01-01 00:00:00+01:00, 2025-01-31 23:59:00...       0.8242   0.8666  \n",
       "[2025-02-01 00:00:00+01:00, 2025-02-28 23:59:00...       0.8076   0.8355  \n",
       "[2025-03-01 00:00:00+01:00, 2025-03-31 23:59:00...       0.8129   0.8986  "
      ]
     },
     "execution_count": 75,
     "metadata": {},
     "output_type": "execute_result"
    }
   ],
   "source": [
    "df_months.head(3)"
   ]
  },
  {
   "cell_type": "markdown",
   "id": "282baeaa-840e-4a6a-84e2-7dfcfa458a94",
   "metadata": {},
   "source": [
    "Finally, we can now update the context items in TrendMiner, resulting in a nice monthly overview of our OEE KPIs"
   ]
  },
  {
   "cell_type": "code",
   "execution_count": 78,
   "id": "ab5e16b1-f0e9-4662-a429-f824e2e4f449",
   "metadata": {},
   "outputs": [],
   "source": [
    "df_months.context.update()"
   ]
  },
  {
   "cell_type": "markdown",
   "id": "6f576bfe-1c73-4c34-ab1d-f3aaa34682a0",
   "metadata": {},
   "source": [
    "## Creating dashboards\n",
    "We can now build a custom dashboards around our OEE data, showing our monthly KPIs and potentially the production events as well. **Conditional formatting** in ContextHub can make it very clear how we have been performing."
   ]
  },
  {
   "cell_type": "markdown",
   "id": "592cd67d-a572-4de0-8ce2-93fcc69be149",
   "metadata": {},
   "source": [
    "If you have access, MLHub can be used to create custom visualizations. We can load ContextHub views into MLHub and extract the OEE metrics from the views. The metrics can then be deployed to a custom visualization. For example, we can create multi-line charts, bar charts, and radar plots of the OEE metrics in MLHub. Then we create a pipeline of the visualization to display on a DashHub dashboard."
   ]
  }
 ],
 "metadata": {
  "kernelspec": {
   "display_name": "Python 3 (ipykernel)",
   "language": "python",
   "name": "python3"
  },
  "language_info": {
   "codemirror_mode": {
    "name": "ipython",
    "version": 3
   },
   "file_extension": ".py",
   "mimetype": "text/x-python",
   "name": "python",
   "nbconvert_exporter": "python",
   "pygments_lexer": "ipython3",
   "version": "3.12.9"
  }
 },
 "nbformat": 4,
 "nbformat_minor": 5
}
